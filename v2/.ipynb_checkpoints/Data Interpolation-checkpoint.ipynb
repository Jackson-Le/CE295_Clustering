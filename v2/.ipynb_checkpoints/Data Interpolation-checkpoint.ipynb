{
 "cells": [
  {
   "cell_type": "code",
   "execution_count": 1,
   "metadata": {},
   "outputs": [],
   "source": [
    "import pandas as pd\n",
    "import numpy as np\n",
    "import matplotlib.pyplot as plt\n",
    "import datetime as dt\n",
    "import os\n",
    "\n",
    "from dotenv import load_dotenv\n",
    "import itertools"
   ]
  },
  {
   "cell_type": "code",
   "execution_count": 2,
   "metadata": {},
   "outputs": [],
   "source": [
    "# env variables\n",
    "load_dotenv()\n",
    "\n",
    "data_path = os.environ.get(\"data_path\")"
   ]
  },
  {
   "cell_type": "code",
   "execution_count": 3,
   "metadata": {},
   "outputs": [
    {
     "data": {
      "text/plain": [
       "'C:\\\\Users\\\\orcal\\\\Documents\\\\UCB\\\\CE295\\\\Project\\\\data'"
      ]
     },
     "execution_count": 3,
     "metadata": {},
     "output_type": "execute_result"
    }
   ],
   "source": [
    "data_path"
   ]
  },
  {
   "cell_type": "code",
   "execution_count": 4,
   "metadata": {},
   "outputs": [],
   "source": [
    "os.chdir(data_path)\n",
    "df_tx = pd.read_csv('15minute_data_austin.csv')\n",
    "#df_ca = pd.read_csv('15minute_data_california.csv')\n",
    "df_ny = pd.read_csv('15minute_data_newyork.csv')"
   ]
  },
  {
   "cell_type": "code",
   "execution_count": 5,
   "metadata": {},
   "outputs": [],
   "source": [
    "def clean_up_dataset(dataframe):\n",
    "    sorted_df = dataframe.sort_values(by= ['local_15min'])\n",
    "    all_sorted_time = sorted_df['local_15min'].unique()\n",
    "    time_ids = {}\n",
    "    unique_ids = {}\n",
    "    counter = 0\n",
    "    dataframe = dataframe.fillna(0)\n",
    "    \n",
    "    # Assign a unique numerical id to each timestamp\n",
    "    for i in all_sorted_time:\n",
    "        time_ids.update({i: counter})\n",
    "        unique_ids.update({counter: i})\n",
    "        counter += 1\n",
    "\n",
    "    \n",
    "    def get_front_back(df, date):\n",
    "        if time_ids[date] - 1 > 0:\n",
    "            back = unique_ids[time_ids[date] - 1]\n",
    "        else:\n",
    "            back = date\n",
    "        if time_ids[date] + 1 < len(unique_ids):\n",
    "            front = unique_ids[time_ids[date] + 1]\n",
    "        else:\n",
    "            front = date\n",
    "        return (df[df['local_15min'] == front]['grid'], df[df['local_15min'] == back]['grid'])\n",
    "    \n",
    "    def missing_times(lst1, lst2):\n",
    "        # takes unique list and finds the difference in other list\n",
    "        return list(set(lst1).difference(lst2))\n",
    "    \n",
    "    # Append missing data values\n",
    "    time_labels = []\n",
    "    grid_interpret = []\n",
    "    data_labels =[]\n",
    "    num_uid = 0\n",
    "    for k in dataframe['dataid'].unique():\n",
    "        num_uid += 1\n",
    "        cur_mis = missing_times(all_sorted_time, dataframe[dataframe['dataid'] == k]['local_15min'].unique())\n",
    "        print(f\"Household ID {k} is missing {len(cur_mis)} timestamps.\")\n",
    "        for j in cur_mis:\n",
    "            time_labels += [j]\n",
    "            grid_interpret += [np.nan]\n",
    "            data_labels += [k]\n",
    "            \n",
    "    sorted_id = dataframe.append(pd.DataFrame({'local_15min': time_labels, 'grid': grid_interpret, 'dataid': data_labels}),\n",
    "                    ignore_index = True)\n",
    "    \n",
    "    # Resort by data labels\n",
    "    sorted_id = sorted_id.sort_values(by= ['dataid'])\n",
    "    sorted_id.reset_index(drop=True,inplace=True)\n",
    "\n",
    "    # Apply interpolation by indexing into separate UIDs\n",
    "    df_list = []\n",
    "    for uid in sorted_id['dataid'].unique():\n",
    "        grid_pts = sorted_id.loc[sorted_id['dataid']==uid,:].copy()\n",
    "        grid_pts = grid_pts.sort_values(by=['local_15min'],ignore_index=True)\n",
    "        interp = grid_pts.interpolate(method='polynomial',order = 5)\n",
    "        df_list.append(interp)\n",
    "      \n",
    "    sorted_id = pd.concat(df_list,ignore_index=True)\n",
    "    return sorted_id"
   ]
  },
  {
   "cell_type": "code",
   "execution_count": null,
   "metadata": {
    "run_control": {
     "marked": false
    },
    "scrolled": true
   },
   "outputs": [
    {
     "name": "stdout",
     "output_type": "stream",
     "text": [
      "Household ID 661 is missing 4 timestamps.\n",
      "Household ID 1642 is missing 388 timestamps.\n",
      "Household ID 2335 is missing 568 timestamps.\n",
      "Household ID 2361 is missing 52 timestamps.\n",
      "Household ID 2818 is missing 56 timestamps.\n",
      "Household ID 3039 is missing 0 timestamps.\n",
      "Household ID 3456 is missing 104 timestamps.\n",
      "Household ID 3538 is missing 0 timestamps.\n",
      "Household ID 4031 is missing 0 timestamps.\n",
      "Household ID 4373 is missing 504 timestamps.\n",
      "Household ID 4767 is missing 77 timestamps.\n",
      "Household ID 5746 is missing 300 timestamps.\n",
      "Household ID 6139 is missing 0 timestamps.\n",
      "Household ID 7536 is missing 52 timestamps.\n",
      "Household ID 7719 is missing 156 timestamps.\n",
      "Household ID 7800 is missing 16 timestamps.\n",
      "Household ID 7901 is missing 144 timestamps.\n",
      "Household ID 7951 is missing 0 timestamps.\n",
      "Household ID 8156 is missing 52 timestamps.\n",
      "Household ID 8386 is missing 0 timestamps.\n",
      "Household ID 8565 is missing 0 timestamps.\n",
      "Household ID 9019 is missing 108 timestamps.\n",
      "Household ID 9160 is missing 32 timestamps.\n",
      "Household ID 9922 is missing 0 timestamps.\n",
      "Household ID 9278 is missing 1 timestamps.\n"
     ]
    }
   ],
   "source": [
    "sorted_cleaned_tx = clean_up_dataset(df_tx)\n",
    "# sorted_cleaned_ca = clean_up_dataset(df_ca)\n",
    "sorted_cleaned_ny = clean_up_dataset(df_ny)"
   ]
  },
  {
   "cell_type": "code",
   "execution_count": null,
   "metadata": {},
   "outputs": [],
   "source": [
    "def get_date(date):\n",
    "    if type(date) == str:\n",
    "        dtobj = dt.datetime.strptime(date, '%Y-%m-%d %H:%M:%S-%f')\n",
    "        return dtobj.year * 10000 + dtobj.month * 100 + dtobj.day\n",
    "    return date.year * 10000 + date.month * 100 + date.day\n",
    "\n",
    "def all_days(df):\n",
    "    days = []\n",
    "    i = 96\n",
    "    while i < len(df):\n",
    "        days.append(get_date(df.iloc[i-1]['local_15min']))\n",
    "    return days"
   ]
  },
  {
   "cell_type": "code",
   "execution_count": null,
   "metadata": {},
   "outputs": [],
   "source": [
    "def multi_index_dataframe(df):\n",
    "    df_days_all = df[df['dataid'] == df['dataid'][0]]['local_15min']\n",
    "    df_days = []\n",
    "    i = 96\n",
    "    while i < len(df_days_all):\n",
    "        df_days += [get_date(df_days_all[i-1])]\n",
    "        i += 96\n",
    "    iterables = [df['dataid'].unique(), df_days]\n",
    "    multi_index = pd.MultiIndex.from_product(iterables, names=[\"dataid\", \"date\"])    \n",
    "    vals = []\n",
    "    for houseid in df['dataid'].unique():\n",
    "        temp = df[df['dataid'] == houseid]\n",
    "        temp_dict = {}\n",
    "        i = 96\n",
    "        while i < len(temp):\n",
    "            vals_temp = list(temp[i - 96:i]['grid'])\n",
    "            vals += [vals_temp]\n",
    "            i += 96\n",
    "    df_final = pd.DataFrame(vals, index = multi_index, columns = np.arange(96))\n",
    "    return df_final"
   ]
  },
  {
   "cell_type": "code",
   "execution_count": null,
   "metadata": {},
   "outputs": [],
   "source": [
    "multi_tx = multi_index_dataframe(sorted_cleaned_tx)"
   ]
  },
  {
   "cell_type": "code",
   "execution_count": null,
   "metadata": {},
   "outputs": [],
   "source": [
    "multi_ny = multi_index_dataframe(sorted_cleaned_ny)"
   ]
  },
  {
   "cell_type": "code",
   "execution_count": null,
   "metadata": {},
   "outputs": [],
   "source": [
    "multi_ny.head()"
   ]
  },
  {
   "cell_type": "code",
   "execution_count": null,
   "metadata": {},
   "outputs": [],
   "source": [
    "multi_ny.xs(20190501,level = 1).index"
   ]
  },
  {
   "cell_type": "code",
   "execution_count": null,
   "metadata": {},
   "outputs": [],
   "source": [
    "multi_ny.loc[27,:].index - multi_ny.loc[27,:].index[0]"
   ]
  },
  {
   "cell_type": "code",
   "execution_count": null,
   "metadata": {},
   "outputs": [],
   "source": [
    "def plot_from_multi(multi_df: 'DataFrame', day: int): # day is the day stamp to plot\n",
    "    day_str = str(day)\n",
    "    plt.figure(figsize = (15,8),dpi=300)\n",
    "    ax = plt.gca()\n",
    "    household_use = multi_df.xs(day,level=1) # index on second level only\n",
    "    \n",
    "    # Create 15 minute intervals\n",
    "    def pad_hours(string):\n",
    "        if len(string)<2:\n",
    "            string = '0'+string\n",
    "        return string\n",
    "    \n",
    "    hours = np.arange(25)\n",
    "    hours = [pad_hours(str(hour)) for hour in hours]\n",
    "    #minutes = ['00','15','30','45']\n",
    "    #day_intervals = sorted(list(itertools.product(hours,minutes)))\n",
    "    \n",
    "    # Plot energy use data\n",
    "    for uid in household_use.index:\n",
    "        energy_use = household_use.loc[uid,:]\n",
    "        plt.plot(np.arange(len(energy_use)),energy_use)\n",
    "    \n",
    "    ax.set_xticks(np.arange(0,len(energy_use)+4,4))\n",
    "    ax.set_xticklabels(hours)\n",
    "    ax.set_xlabel('Hours')\n",
    "    ax.set_ylabel('Energy Use')\n",
    "    ax.set_title(f'Energy use for {day_str[-2:]}-{day_str[-4:-2]}-{day_str[0:4]}')\n",
    "    fig = plt.gcf()\n",
    "    \n",
    "    #plt.show()\n",
    "    return fig"
   ]
  },
  {
   "cell_type": "code",
   "execution_count": null,
   "metadata": {},
   "outputs": [],
   "source": [
    "day = 20190502\n",
    "fig = plot_from_multi(multi_ny,day)\n",
    "fig.savefig(f'{day}_use.png',bbox_inches='tight')\n",
    "plt.show()"
   ]
  },
  {
   "cell_type": "code",
   "execution_count": null,
   "metadata": {
    "scrolled": true
   },
   "outputs": [],
   "source": [
    "a = [1,2,3,4]\n",
    "b = ['a','b']\n",
    "list(itertools.product(a,b))"
   ]
  },
  {
   "cell_type": "code",
   "execution_count": null,
   "metadata": {},
   "outputs": [],
   "source": []
  }
 ],
 "metadata": {
  "kernelspec": {
   "display_name": "Python 3",
   "language": "python",
   "name": "python3"
  },
  "language_info": {
   "codemirror_mode": {
    "name": "ipython",
    "version": 3
   },
   "file_extension": ".py",
   "mimetype": "text/x-python",
   "name": "python",
   "nbconvert_exporter": "python",
   "pygments_lexer": "ipython3",
   "version": "3.7.9"
  },
  "varInspector": {
   "cols": {
    "lenName": 16,
    "lenType": 16,
    "lenVar": 40
   },
   "kernels_config": {
    "python": {
     "delete_cmd_postfix": "",
     "delete_cmd_prefix": "del ",
     "library": "var_list.py",
     "varRefreshCmd": "print(var_dic_list())"
    },
    "r": {
     "delete_cmd_postfix": ") ",
     "delete_cmd_prefix": "rm(",
     "library": "var_list.r",
     "varRefreshCmd": "cat(var_dic_list()) "
    }
   },
   "types_to_exclude": [
    "module",
    "function",
    "builtin_function_or_method",
    "instance",
    "_Feature"
   ],
   "window_display": true
  }
 },
 "nbformat": 4,
 "nbformat_minor": 5
}
